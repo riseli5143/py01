{
  "nbformat": 4,
  "nbformat_minor": 0,
  "metadata": {
    "colab": {
      "provenance": [],
      "authorship_tag": "ABX9TyNahg6p/cvltgZQ+F+JHneF",
      "include_colab_link": true
    },
    "kernelspec": {
      "name": "python3",
      "display_name": "Python 3"
    },
    "language_info": {
      "name": "python"
    }
  },
  "cells": [
    {
      "cell_type": "markdown",
      "metadata": {
        "id": "view-in-github",
        "colab_type": "text"
      },
      "source": [
        "<a href=\"https://colab.research.google.com/github/riseli5143/py01/blob/main/Tabelle.ipynb\" target=\"_parent\"><img src=\"https://colab.research.google.com/assets/colab-badge.svg\" alt=\"Open In Colab\"/></a>"
      ]
    },
    {
      "cell_type": "code",
      "execution_count": 1,
      "metadata": {
        "colab": {
          "base_uri": "https://localhost:8080/"
        },
        "id": "Da4k1MUW5EnJ",
        "outputId": "58a9c1df-201a-43d8-b89b-f8e8c295a5d4"
      },
      "outputs": [
        {
          "output_type": "stream",
          "name": "stdout",
          "text": [
            "Generierte Tabelle:\n",
            "        Datum           Ort       Umsatz\n",
            "0  2023-02-13         Köniz  1413.38 CHF\n",
            "1  2025-03-14        Sitten  2228.15 CHF\n",
            "2  2024-01-08          Bern  4830.97 CHF\n",
            "3  2024-01-12          Genf  3793.32 CHF\n",
            "4  2024-11-07          Chur  2797.78 CHF\n",
            "5  2023-01-24        Luzern  3389.13 CHF\n",
            "6  2025-04-01        Sitten  3979.64 CHF\n",
            "7  2025-10-14    St. Gallen  2030.44 CHF\n",
            "8  2023-11-12  Schaffhausen  1796.92 CHF\n",
            "9  2025-09-18         Köniz  1401.65 CHF\n"
          ]
        }
      ],
      "source": [
        "import pandas as pd\n",
        "import random\n",
        "from datetime import date, timedelta\n",
        "\n",
        "# --- 1. Definitionen ---\n",
        "anzahl_zeilen = 10\n",
        "\n",
        "# Liste von Schweizer Städten mit über 20'000 Einwohnern (Beispiele)\n",
        "# Quelle für Bevölkerungszahlen prüfen für genaue Liste, dies ist eine Auswahl.\n",
        "staedte_schweiz = [\n",
        "    \"Zürich\", \"Genf\", \"Basel\", \"Lausanne\", \"Bern\", \"Winterthur\",\n",
        "    \"Luzern\", \"St. Gallen\", \"Lugano\", \"Biel/Bienne\", \"Thun\",\n",
        "    \"Köniz\", \"La Chaux-de-Fonds\", \"Freiburg\", \"Schaffhausen\",\n",
        "    \"Vernier\", \"Chur\", \"Neuenburg\", \"Uster\", \"Sitten\"\n",
        "]\n",
        "\n",
        "# Datumsbereich definieren\n",
        "start_datum = date(2023, 1, 1)\n",
        "end_datum = date(2025, 12, 31)\n",
        "tage_im_bereich = (end_datum - start_datum).days\n",
        "\n",
        "# --- 2. Zufällige Daten generieren ---\n",
        "\n",
        "# Liste für zufällige Daten\n",
        "zufalls_daten = []\n",
        "for _ in range(anzahl_zeilen):\n",
        "    zufalls_tage = random.randrange(tage_im_bereich + 1) # +1 um Enddatum inklusiv zu machen\n",
        "    zufalls_datum = start_datum + timedelta(days=zufalls_tage)\n",
        "    zufalls_daten.append(zufalls_datum)\n",
        "\n",
        "# Liste für zufällige Orte\n",
        "zufalls_orte = [random.choice(staedte_schweiz) for _ in range(anzahl_zeilen)]\n",
        "\n",
        "# Liste für zufälligen Umsatz (als Float für Genauigkeit)\n",
        "zufalls_umsaetze_raw = [random.uniform(0, 5000) for _ in range(anzahl_zeilen)]\n",
        "\n",
        "# --- 3. Pandas DataFrame erstellen ---\n",
        "daten_dict = {\n",
        "    'Datum': zufalls_daten,\n",
        "    'Ort': zufalls_orte,\n",
        "    'Umsatz': zufalls_umsaetze_raw # Erstmal die rohen Zahlen verwenden\n",
        "}\n",
        "\n",
        "df = pd.DataFrame(daten_dict)\n",
        "\n",
        "# --- 4. Umsatz formatieren (optional, aber schöner für die Anzeige) ---\n",
        "# Auf 2 Dezimalstellen runden und \" CHF\" hinzufügen\n",
        "df['Umsatz'] = df['Umsatz'].map('{:.2f}'.format) + ' CHF'\n",
        "\n",
        "# Optional: Datum formatieren (z.B. als Tag.Monat.Jahr)\n",
        "# df['Datum'] = pd.to_datetime(df['Datum']).dt.strftime('%d.%m.%Y')\n",
        "\n",
        "# --- 5. Tabelle anzeigen ---\n",
        "print(\"Generierte Tabelle:\")\n",
        "print(df)\n",
        "\n",
        "# In Colab wird der DataFrame auch ohne print() schön angezeigt,\n",
        "# wenn 'df' die letzte Zeile der Zelle ist.\n",
        "# df"
      ]
    }
  ]
}